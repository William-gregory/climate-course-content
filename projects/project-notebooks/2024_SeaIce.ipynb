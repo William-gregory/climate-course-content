{
 "cells": [
  {
   "cell_type": "markdown",
   "id": "ada5523b",
   "metadata": {},
   "source": [
    "<a href=\"https://colab.research.google.com/github/neuromatch/course-content-template/blob/main/projects/example_dataset/Example_based_on_CMA_structure.ipynb\" target=\"_parent\"><img src=\"https://colab.research.google.com/assets/colab-badge.svg\" alt=\"Open In Colab\"/></a> &nbsp; <a href=\"https://kaggle.com/kernels/welcome?src=https://raw.githubusercontent.com/neuromatch/course-content-template/main/projects/example_dataset/Example_based_on_CMA_structure\" target=\"_parent\"><img src=\"https://kaggle.com/static/images/open-in-kaggle.svg\" alt=\"Open in Kaggle\"/></a>"
   ]
  },
  {
   "cell_type": "markdown",
   "id": "045624d0",
   "metadata": {
    "execution": {}
   },
   "source": [
    "<h1>\n",
    "Sea ice changes\n",
    "</h1>\n",
    "\n",
    "\n",
    "\n",
    "__Content creators:__ Will Gregory\n",
    "\n",
    "__Content reviewers:__ Names & Surnames\n",
    "\n",
    "__Content editors:__ Konstantinos Tsafatinos\n",
    "\n",
    "__Production editors:__ Konstantinos Tsafatinos\n",
    "\n",
    "__Our 2024 Sponsors:__ Sponsors\n"
   ]
  },
  {
   "cell_type": "markdown",
   "id": "c08b96da",
   "metadata": {
    "execution": {}
   },
   "source": [
    "To include videos:"
   ]
  },
  {
   "cell_type": "code",
   "execution_count": 1,
   "id": "64da422f",
   "metadata": {
    "cellView": "form",
    "execution": {}
   },
   "outputs": [
    {
     "data": {
      "application/vnd.jupyter.widget-view+json": {
       "model_id": "bc75a50d6fd94a54812d7f38975591ab",
       "version_major": 2,
       "version_minor": 0
      },
      "text/plain": [
       "Tab(children=(Output(), Output()), _titles={'0': 'Youtube', '1': 'Bilibili'})"
      ]
     },
     "metadata": {},
     "output_type": "display_data"
    }
   ],
   "source": [
    "# @title Project Background\n",
    "\n",
    "from ipywidgets import widgets\n",
    "from IPython.display import YouTubeVideo\n",
    "from IPython.display import IFrame\n",
    "from IPython.display import display\n",
    "\n",
    "class PlayVideo(IFrame):\n",
    "    def __init__(self, id, source, page=1, width=400, height=300, **kwargs):\n",
    "        self.id = id\n",
    "        if source == \"Bilibili\":\n",
    "            src = f\"https://player.bilibili.com/player.html?bvid={id}&page={page}\"\n",
    "        elif source == \"Osf\":\n",
    "            src = f\"https://mfr.ca-1.osf.io/render?url=https://osf.io/download/{id}/?direct%26mode=render\"\n",
    "        super(PlayVideo, self).__init__(src, width, height, **kwargs)\n",
    "\n",
    "\n",
    "def display_videos(video_ids, W=400, H=300, fs=1):\n",
    "    tab_contents = []\n",
    "    for i, video_id in enumerate(video_ids):\n",
    "        out = widgets.Output()\n",
    "        with out:\n",
    "            if video_ids[i][0] == \"Youtube\":\n",
    "                video = YouTubeVideo(\n",
    "                    id=video_ids[i][1], width=W, height=H, fs=fs, rel=0\n",
    "                )\n",
    "                print(f\"Video available at https://youtube.com/watch?v={video.id}\")\n",
    "            else:\n",
    "                video = PlayVideo(\n",
    "                    id=video_ids[i][1],\n",
    "                    source=video_ids[i][0],\n",
    "                    width=W,\n",
    "                    height=H,\n",
    "                    fs=fs,\n",
    "                    autoplay=False,\n",
    "                )\n",
    "                if video_ids[i][0] == \"Bilibili\":\n",
    "                    print(\n",
    "                        f\"Video available at https://www.bilibili.com/video/{video.id}\"\n",
    "                    )\n",
    "                elif video_ids[i][0] == \"Osf\":\n",
    "                    print(f\"Video available at https://osf.io/{video.id}\")\n",
    "            display(video)\n",
    "        tab_contents.append(out)\n",
    "    return tab_contents\n",
    "\n",
    "\n",
    "video_ids = [('Youtube', '49XHRe61LI8'), ('Bilibili', 'BV1Au411L7fo')]\n",
    "tab_contents = display_videos(video_ids, W=730, H=410)\n",
    "tabs = widgets.Tab()\n",
    "tabs.children = tab_contents\n",
    "for i in range(len(tab_contents)):\n",
    "    tabs.set_title(i, video_ids[i][0])\n",
    "display(tabs)"
   ]
  },
  {
   "cell_type": "markdown",
   "id": "a9fb54e0",
   "metadata": {
    "execution": {}
   },
   "source": [
    "To include slides:"
   ]
  },
  {
   "cell_type": "code",
   "execution_count": 1,
   "id": "b52fef8b",
   "metadata": {
    "cellView": "form",
    "execution": {}
   },
   "outputs": [],
   "source": [
    "# @title Tutorial slides\n",
    "# @markdown These are the slides for the videos in all tutorials today\n",
    "\n",
    "from IPython.display import IFrame\n",
    "#link_id = \"n7wdy\""
   ]
  },
  {
   "cell_type": "markdown",
   "id": "63b697d5",
   "metadata": {
    "execution": {}
   },
   "source": [
    "**In this project**, you will explore sea ice data from CMIP6. Specifically, you will investigate how the sea ice cover has changed over the last century, and how the ice cover will change into the future"
   ]
  },
  {
   "cell_type": "markdown",
   "id": "ff7ae1c9",
   "metadata": {
    "execution": {}
   },
   "source": [
    "# Project Template\n",
    "\n",
    "<img src='../template-images/2024_SeaIce.svg'/>"
   ]
  },
  {
   "cell_type": "markdown",
   "id": "f51243f3",
   "metadata": {
    "execution": {}
   },
   "source": [
    "## Data Exploration Notebook\n",
    "\n",
    "## Project Setup"
   ]
  },
  {
   "cell_type": "code",
   "execution_count": null,
   "id": "b68292ec",
   "metadata": {
    "execution": {}
   },
   "outputs": [],
   "source": [
    "# google colab installs\n",
    "\n",
    "# !mamaba install netCDF4"
   ]
  },
  {
   "cell_type": "code",
   "execution_count": null,
   "id": "1e541a40",
   "metadata": {
    "execution": {}
   },
   "outputs": [],
   "source": [
    "# Imports\n",
    "\n",
    "#Import only the libraries/objects that are necessary for more than one dataset.\n",
    "#Dataset-specific imports should be in the respective notebook section.\n",
    "\n",
    "#If any external library has to be installed, !pip install library --quiet\n",
    "#follow this order: numpy>matplotlib.\n",
    "#import widgets in hidden Figure settings cell\n",
    "\n",
    "import numpy as np\n",
    "import matplotlib.pyplot as plt\n",
    "import xarray as xr\n",
    "import pooch\n",
    "import os\n",
    "import tempfile\n",
    "import pandas as pd\n",
    "import s3fs\n",
    "import boto3\n",
    "import botocore\n",
    "import datetime"
   ]
  },
  {
   "cell_type": "code",
   "execution_count": null,
   "id": "3692a9ca",
   "metadata": {
    "execution": {}
   },
   "outputs": [],
   "source": [
    "# @title Helper functions\n",
    "\n",
    "def pooch_load(filelocation=None,filename=None,processor=None):\n",
    "    shared_location='/home/jovyan/shared/Data/Projects/SeaIce' # this is different for each day\n",
    "    user_temp_cache=tempfile.gettempdir()\n",
    "    \n",
    "    if os.path.exists(os.path.join(shared_location,filename)):\n",
    "        file = os.path.join(shared_location,filename)\n",
    "    else:\n",
    "        file = pooch.retrieve(filelocation,known_hash=None,fname=os.path.join(user_temp_cache,filename),processor=processor)\n",
    "\n",
    "    return file"
   ]
  },
  {
   "cell_type": "code",
   "execution_count": null,
   "id": "07545499",
   "metadata": {},
   "outputs": [],
   "source": [
    "# @title Figure settings\n",
    "\n",
    "import ipywidgets as widgets       # interactive display\n",
    "%config InlineBackend.figure_format = 'retina'\n",
    "plt.style.use(\"https://raw.githubusercontent.com/ClimateMatchAcademy/course-content/main/cma.mplstyle\")"
   ]
  },
  {
   "cell_type": "markdown",
   "id": "02a3777f",
   "metadata": {},
   "source": [
    "## Met Office HadGCM-31 climate model\n",
    "\n",
    "The HadGCM-31 model is an IPPC-class climate model routinely used by the UK Met Office to make simulations of past and future climate. We will be looking specifically at sea ice changes in the Arctic from historical simulations over the period 1950-2014, as well as future changes under different forcing scenarios SSP126 and SSP245. We will be looking at sea ice concentration (siconc), to infer how the model has simulated changes in the Arctic sea ice cover under historical greenhouse gas forcing, and try and identify whether this particular model predicts an 'ice-free' Arctic in the future \n",
    "\n",
    "Read more about HadGEM here:\n",
    "\n",
    "* [HadGEM-GC31-LL](https://www.wdc-climate.de/ui/cmip6?input=CMIP6.HighResMIP.MOHC.HadGEM3-GC31-LL)"
   ]
  },
  {
   "cell_type": "code",
   "execution_count": null,
   "id": "ad439e00",
   "metadata": {},
   "outputs": [],
   "source": [
    "# code to retrieve and load the data\n",
    "historical_siconc = xr.open_dataset('Arctic_siconc_SImon_HadGEM3-GC31-LL_historical_r1i1p1f3_gn_195001-201412.nc')\n",
    "future_ssp126_siconc = xr.open_dataset('Arctic_siconc_SImon_HadGEM3-GC31-LL_ssp126_r1i1p1f3_gn_201501-210012.nc')\n",
    "future_ssp245_siconc = xr.open_dataset('Arctic_siconc_SImon_HadGEM3-GC31-LL_ssp245_r1i1p1f3_gn_201501-210012.nc')"
   ]
  },
  {
   "cell_type": "markdown",
   "id": "660f8525",
   "metadata": {},
   "source": [
    "We can now visualize the content of the dataset."
   ]
  },
  {
   "cell_type": "code",
   "execution_count": null,
   "id": "114e4a72",
   "metadata": {},
   "outputs": [],
   "source": [
    "# code to print the shape, array names, etc of the dataset\n",
    "historical_siconc"
   ]
  },
  {
   "cell_type": "code",
   "execution_count": null,
   "id": "75867210",
   "metadata": {},
   "outputs": [],
   "source": [
    "# Code to print the shape, array names, etc of the dataset\n",
    "future_ssp126_siconc"
   ]
  },
  {
   "cell_type": "code",
   "execution_count": null,
   "id": "f876d8b3",
   "metadata": {},
   "outputs": [],
   "source": [
    "# Code to print the shape, array names, etc of the dataset\n",
    "future_ssp245_siconc"
   ]
  },
  {
   "cell_type": "markdown",
   "id": "3543b122",
   "metadata": {},
   "source": [
    "Now you are all set to address the questions you are interested in!"
   ]
  },
  {
   "cell_type": "markdown",
   "id": "c62a0f3e",
   "metadata": {
    "execution": {}
   },
   "source": [
    "# Further Reading"
   ]
  },
  {
   "cell_type": "markdown",
   "id": "378b7ff3",
   "metadata": {
    "execution": {}
   },
   "source": [
    "- Jahn , A. et al, 2024. Projections of an ice-free Arctic Ocean. Nat Rev Earth Environ 5, 164–176 [https://doi.org/10.1038/s43017-023-00515-9](https://doi.org/10.1038/s43017-023-00515-9)\n",
    "- Notz, D. and SIMIP, 2020. Arctic sea ice in CMIP6. GRL, 47(10) https://doi.org/10.1029/2019GL086749\n",
    "- Arthun et al. 2020"
   ]
  },
  {
   "cell_type": "code",
   "execution_count": null,
   "id": "80a8bf0d",
   "metadata": {},
   "outputs": [],
   "source": []
  }
 ],
 "metadata": {
  "colab": {
   "collapsed_sections": [],
   "include_colab_link": true,
   "name": "Example_based_on_CMA_structure",
   "toc_visible": true
  },
  "kernel": {
   "display_name": "Python 3",
   "language": "python",
   "name": "python3"
  },
  "kernelspec": {
   "display_name": "Python 3 (ipykernel)",
   "language": "python",
   "name": "python3"
  },
  "language_info": {
   "codemirror_mode": {
    "name": "ipython",
    "version": 3
   },
   "file_extension": ".py",
   "mimetype": "text/x-python",
   "name": "python",
   "nbconvert_exporter": "python",
   "pygments_lexer": "ipython3",
   "version": "3.9.16"
  }
 },
 "nbformat": 4,
 "nbformat_minor": 5
}
