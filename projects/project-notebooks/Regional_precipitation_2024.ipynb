{
 "cells": [
  {
   "cell_type": "markdown",
   "id": "ada5523b",
   "metadata": {},
   "source": [
    "<a href=\"https://colab.research.google.com/github/neuromatch/course-content-template/blob/main/projects/example_dataset/Example_based_on_CMA_structure.ipynb\" target=\"_parent\"><img src=\"https://colab.research.google.com/assets/colab-badge.svg\" alt=\"Open In Colab\"/></a> &nbsp; <a href=\"https://kaggle.com/kernels/welcome?src=https://raw.githubusercontent.com/neuromatch/course-content-template/main/projects/example_dataset/Example_based_on_CMA_structure\" target=\"_parent\"><img src=\"https://kaggle.com/static/images/open-in-kaggle.svg\" alt=\"Open in Kaggle\"/></a>"
   ]
  },
  {
   "cell_type": "markdown",
   "id": "045624d0",
   "metadata": {
    "execution": {}
   },
   "source": [
    "<h1>\n",
    "Regional Precipitation and Extreme events\n",
    "</h1>\n",
    "\n",
    "\n",
    "\n",
    "__Content creators:__ Will Gregory & Laura Paccini\n",
    "\n",
    "__Content reviewers:__ Names & Surnames\n",
    "\n",
    "__Content editors:__ Konstantinos Tsafatinos\n",
    "\n",
    "__Production editors:__ Konstantinos Tsafatinos\n",
    "\n",
    "__Our 2024 Sponsors:__ Sponsors\n"
   ]
  },
  {
   "cell_type": "markdown",
   "id": "60881a20",
   "metadata": {},
   "source": [
    "---\n",
    "The notebook should have the following outline:\n",
    "\n",
    "- Project background (video + template outline)\n",
    "- Imports and functions common to multiple data sources\n",
    "- Data source 1\n",
    "- Data source background\n",
    "- Imports and functions common to multiple datasets from the same data source\n",
    "\n",
    "- Dataset 1:\n",
    "\n",
    "    Dataset background (if needed)\n",
    "    \n",
    "    Imports and functions specific to the dataset\n",
    "    \n",
    "    Code to load the dataset\n",
    "    \n",
    "    Code to pre-process the dataset (if not taught and likely difficult for students)\n",
    "    \n",
    "    Code to visualise the data table shape/content\n",
    "\n",
    "...\n",
    "- Dataset N:\n",
    "    same as for Dataset 1\n",
    "...\n",
    "\n",
    "- Further reading\n",
    "\n",
    "---\n",
    "We encourage you to explain the key parts of your code through comments and text cells as you see fit.\n",
    "\n",
    "---\n",
    "If the same or analogous dataset is covered in the curriculum tutorials, we can expect students to know how to load that data. In that case, please provide only the dataset background and refer students to the respective curriculum day while maintaining the structural hierarchy of the notebook.\n",
    "\n",
    "---\n",
    "If you wish to include any plots in your template, those should follow the standard figure formatting. Please include the Figure settings cell from the tutorial notebook template. Let us know if you have any questions about this or are unsure how to proceed!"
   ]
  },
  {
   "cell_type": "markdown",
   "id": "c08b96da",
   "metadata": {
    "execution": {}
   },
   "source": [
    "To include videos:"
   ]
  },
  {
   "cell_type": "code",
   "execution_count": 1,
   "id": "64da422f",
   "metadata": {
    "cellView": "form",
    "execution": {}
   },
   "outputs": [
    {
     "data": {
      "application/vnd.jupyter.widget-view+json": {
       "model_id": "bc75a50d6fd94a54812d7f38975591ab",
       "version_major": 2,
       "version_minor": 0
      },
      "text/plain": [
       "Tab(children=(Output(), Output()), _titles={'0': 'Youtube', '1': 'Bilibili'})"
      ]
     },
     "metadata": {},
     "output_type": "display_data"
    }
   ],
   "source": [
    "# @title Project Background\n",
    "\n",
    "from ipywidgets import widgets\n",
    "from IPython.display import YouTubeVideo\n",
    "from IPython.display import IFrame\n",
    "from IPython.display import display\n",
    "\n",
    "\n",
    "class PlayVideo(IFrame):\n",
    "  def __init__(self, id, source, page=1, width=400, height=300, **kwargs):\n",
    "    self.id = id\n",
    "    if source == 'Bilibili':\n",
    "      src = f'https://player.bilibili.com/player.html?bvid={id}&page={page}'\n",
    "    elif source == 'Osf':\n",
    "      src = f'https://mfr.ca-1.osf.io/render?url=https://osf.io/download/{id}/?direct%26mode=render'\n",
    "    super(PlayVideo, self).__init__(src, width, height, **kwargs)\n",
    "\n",
    "\n",
    "def display_videos(video_ids, W=400, H=300, fs=1):\n",
    "  tab_contents = []\n",
    "  for i, video_id in enumerate(video_ids):\n",
    "    out = widgets.Output()\n",
    "    with out:\n",
    "      if video_ids[i][0] == 'Youtube':\n",
    "        video = YouTubeVideo(id=video_ids[i][1], width=W,\n",
    "                             height=H, fs=fs, rel=0)\n",
    "        print(f'Video available at https://youtube.com/watch?v={video.id}')\n",
    "      else:\n",
    "        video = PlayVideo(id=video_ids[i][1], source=video_ids[i][0], width=W,\n",
    "                          height=H, fs=fs, autoplay=False)\n",
    "        if video_ids[i][0] == 'Bilibili':\n",
    "          print(f'Video available at https://www.bilibili.com/video/{video.id}')\n",
    "        elif video_ids[i][0] == 'Osf':\n",
    "          print(f'Video available at https://osf.io/{video.id}')  \n",
    "      display(video)\n",
    "    tab_contents.append(out)\n",
    "  return tab_contents\n",
    "\n",
    "\n",
    "video_ids = [('Youtube', '<video_id_1>'), ('Bilibili', '<video_id_2>'), ('Osf', '<video_id_3>')]\n",
    "tab_contents = display_videos(video_ids, W=854, H=480)\n",
    "tabs = widgets.Tab()\n",
    "tabs.children = tab_contents\n",
    "for i in range(len(tab_contents)):\n",
    "  tabs.set_title(i, video_ids[i][0])\n",
    "display(tabs)"
   ]
  },
  {
   "cell_type": "markdown",
   "id": "a9fb54e0",
   "metadata": {
    "execution": {}
   },
   "source": [
    "To include slides:"
   ]
  },
  {
   "cell_type": "code",
   "execution_count": 1,
   "id": "b52fef8b",
   "metadata": {
    "cellView": "form",
    "execution": {}
   },
   "outputs": [],
   "source": [
    "# @title Tutorial slides\n",
    "# @markdown These are the slides for the videos in all tutorials today\n",
    "\n",
    "from IPython.display import IFrame\n",
    "#link_id = \"n7wdy\""
   ]
  },
  {
   "cell_type": "markdown",
   "id": "63b697d5",
   "metadata": {
    "execution": {}
   },
   "source": [
    "Provide a description of what students will do in the project"
   ]
  },
  {
   "cell_type": "markdown",
   "id": "ff7ae1c9",
   "metadata": {
    "execution": {}
   },
   "source": [
    "# Project Template\n",
    "\n",
    "![Alt text](https://github.com/William-gregory/climate-course-content/projects/template-images/Precipitation_2024.svg)"
   ]
  },
  {
   "cell_type": "markdown",
   "id": "f51243f3",
   "metadata": {
    "execution": {}
   },
   "source": [
    "## Data Exploration Notebook\n",
    "\n",
    "## Project Setup"
   ]
  },
  {
   "cell_type": "code",
   "execution_count": null,
   "id": "b68292ec",
   "metadata": {
    "execution": {}
   },
   "outputs": [],
   "source": [
    "# google colab installs\n",
    "\n",
    "# !mamaba install netCDF4"
   ]
  },
  {
   "cell_type": "code",
   "execution_count": null,
   "id": "1e541a40",
   "metadata": {
    "execution": {}
   },
   "outputs": [],
   "source": [
    "# Imports\n",
    "\n",
    "#Import only the libraries/objects that are necessary for more than one dataset.\n",
    "#Dataset-specific imports should be in the respective notebook section.\n",
    "\n",
    "#If any external library has to be installed, !pip install library --quiet\n",
    "#follow this order: numpy>matplotlib.\n",
    "#import widgets in hidden Figure settings cell\n",
    "\n",
    "import random\n",
    "import numpy as np\n",
    "import matplotlib.pyplot as plt"
   ]
  },
  {
   "cell_type": "code",
   "execution_count": null,
   "id": "3692a9ca",
   "metadata": {
    "execution": {}
   },
   "outputs": [],
   "source": [
    "# @title Helper functions\n",
    "\n",
    "# If any helper functions you want to hide for clarity (that has been seen before\n",
    "# or is simple/uniformative), add here\n",
    "# If helper code depends on libraries that aren't used elsewhere,\n",
    "# import those libaries here, rather than in the main import cell"
   ]
  },
  {
   "cell_type": "code",
   "execution_count": null,
   "id": "07545499",
   "metadata": {},
   "outputs": [],
   "source": [
    "# @title Figure settings\n",
    "\n",
    "import ipywidgets as widgets       # interactive display\n",
    "%config InlineBackend.figure_format = 'retina'\n",
    "plt.style.use(\"https://raw.githubusercontent.com/ClimateMatchAcademy/course-content/main/cma.mplstyle\")"
   ]
  },
  {
   "cell_type": "markdown",
   "id": "02a3777f",
   "metadata": {},
   "source": [
    "# [datasource-1]\n",
    "\n",
    "Data source description. You may provide some background that motivated the generation of the associated datasets using hyperlinks to reference relevant papers. Please outline how the data has been collected or generated! Remember to provide credit to dataset authors in line with their copyright policy!\n"
   ]
  },
  {
   "cell_type": "code",
   "execution_count": 2,
   "id": "e9697620",
   "metadata": {},
   "outputs": [],
   "source": [
    "# Data source-specific imports"
   ]
  },
  {
   "cell_type": "code",
   "execution_count": 3,
   "id": "a4660fdc",
   "metadata": {},
   "outputs": [],
   "source": [
    "# Data source-specific functions"
   ]
  },
  {
   "cell_type": "markdown",
   "id": "1d4ab262",
   "metadata": {
    "execution": {}
   },
   "source": [
    "## [datasource-1]: Dataset 1: "
   ]
  },
  {
   "cell_type": "markdown",
   "id": "6fa21050",
   "metadata": {
    "execution": {}
   },
   "source": [
    "Further background on the particular dataset if applicable. "
   ]
  },
  {
   "cell_type": "code",
   "execution_count": null,
   "id": "a2359308",
   "metadata": {},
   "outputs": [],
   "source": [
    "# Dataset-specific imports"
   ]
  },
  {
   "cell_type": "code",
   "execution_count": 4,
   "id": "396c635a",
   "metadata": {},
   "outputs": [],
   "source": [
    "# Dataset-specific functions"
   ]
  },
  {
   "cell_type": "code",
   "execution_count": 5,
   "id": "92175f59",
   "metadata": {},
   "outputs": [],
   "source": [
    "# Code to retrieve and load the data"
   ]
  },
  {
   "cell_type": "markdown",
   "id": "392c0e71",
   "metadata": {},
   "source": [
    "Give advice on the required preprocessing. If applicable, refer to specific tutorials and let the students preprocess the data themselves. Otherwise, explain/illustrate the reasons for preprocessing and provide either the code itself (if students are likely to struggle on their own) or written guidance on the functions, data filtering thresholds, etc they should use."
   ]
  },
  {
   "cell_type": "code",
   "execution_count": null,
   "id": "3bae0683",
   "metadata": {},
   "outputs": [],
   "source": [
    "# Code to preprocess data\n"
   ]
  },
  {
   "cell_type": "markdown",
   "id": "73f4f21b",
   "metadata": {},
   "source": [
    "We can now visualize the content of the dataset."
   ]
  },
  {
   "cell_type": "code",
   "execution_count": null,
   "id": "75867210",
   "metadata": {},
   "outputs": [],
   "source": [
    "# Code to print the shape, array names, etc of the dataset"
   ]
  },
  {
   "cell_type": "markdown",
   "id": "3543b122",
   "metadata": {},
   "source": [
    "Consider adding some encouraging words along the lines of \"Now you are all set to address the questions you are interested in!\""
   ]
  },
  {
   "cell_type": "markdown",
   "id": "9578b229",
   "metadata": {
    "execution": {}
   },
   "source": [
    "## [datasource 1]: Dataset 2:\n",
    "\n",
    "Further background on the particular datafile/variables if applicable."
   ]
  },
  {
   "cell_type": "markdown",
   "id": "ee7c9ef5",
   "metadata": {
    "execution": {}
   },
   "source": [
    "## [datasource 2]:\n",
    "\n",
    "Data source description. You may provide some background that motivated the generation of the associated datasets using hyperlinks to reference relevant papers. Please outline how the data has been collected or generated! Remember to provide credit to dataset authors in line with their copyright policy!"
   ]
  },
  {
   "cell_type": "markdown",
   "id": "c62a0f3e",
   "metadata": {
    "execution": {}
   },
   "source": [
    "# Further Reading"
   ]
  },
  {
   "cell_type": "markdown",
   "id": "378b7ff3",
   "metadata": {
    "execution": {}
   },
   "source": [
    "Use bullet points to list further readings\n"
   ]
  }
 ],
 "metadata": {
  "colab": {
   "collapsed_sections": [],
   "include_colab_link": true,
   "name": "Example_based_on_CMA_structure",
   "toc_visible": true
  },
  "kernel": {
   "display_name": "Python 3",
   "language": "python",
   "name": "python3"
  },
  "kernelspec": {
   "display_name": "Python 3 (ipykernel)",
   "language": "python",
   "name": "python3"
  },
  "language_info": {
   "codemirror_mode": {
    "name": "ipython",
    "version": 3
   },
   "file_extension": ".py",
   "mimetype": "text/x-python",
   "name": "python",
   "nbconvert_exporter": "python",
   "pygments_lexer": "ipython3",
   "version": "3.9.16"
  }
 },
 "nbformat": 4,
 "nbformat_minor": 5
}
